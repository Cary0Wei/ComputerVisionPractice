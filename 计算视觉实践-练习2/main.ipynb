{
 "cells": [
  {
   "cell_type": "code",
   "execution_count": 1,
   "metadata": {},
   "outputs": [],
   "source": [
    "# 手写字体识别\n",
    "\n",
    "import torch\n",
    "import torch.nn as nn\n",
    "import torch.nn.functional as F\n",
    "import torch.optim as optim\n",
    "from torch.utils.data import DataLoader\n",
    "from torchvision import datasets, transforms \n"
   ]
  },
  {
   "cell_type": "code",
   "execution_count": 2,
   "metadata": {},
   "outputs": [],
   "source": [
    "# --------------step1: 定义超参数-------------------------\n",
    "DEVICE = torch.device(\"cuda\" if torch.cuda.is_available() else \"cpu\")  # 是否用GPU\n",
    "EPOCHS = 10  # 数据集的训练次数\n",
    "BATCH_SIZE = 16  # 每批处理的数据 16/32/64/128"
   ]
  },
  {
   "cell_type": "code",
   "execution_count": 3,
   "metadata": {},
   "outputs": [],
   "source": [
    "# -------------step2: 构建transform（对图像做处理）---------\n",
    "transform = transforms.Compose([\n",
    "    transforms.ToTensor(),  # 将图片转成成tensor\n",
    "    transforms.Normalize((0.1307, ), (0.3081, ))  # 标准化 => x' = （x-μ）/σ\n",
    "])"
   ]
  },
  {
   "cell_type": "code",
   "execution_count": 4,
   "metadata": {},
   "outputs": [
    {
     "name": "stdout",
     "output_type": "stream",
     "text": [
      "Downloading http://yann.lecun.com/exdb/mnist/train-images-idx3-ubyte.gz\n",
      "Failed to download (trying next):\n",
      "HTTP Error 503: Service Unavailable\n",
      "\n",
      "Downloading https://ossci-datasets.s3.amazonaws.com/mnist/train-images-idx3-ubyte.gz\n",
      "Downloading https://ossci-datasets.s3.amazonaws.com/mnist/train-images-idx3-ubyte.gz to data_sets\\MNIST\\raw\\train-images-idx3-ubyte.gz\n"
     ]
    },
    {
     "name": "stderr",
     "output_type": "stream",
     "text": [
      "100%|██████████| 9912422/9912422 [00:03<00:00, 3178722.84it/s]\n"
     ]
    },
    {
     "name": "stdout",
     "output_type": "stream",
     "text": [
      "Extracting data_sets\\MNIST\\raw\\train-images-idx3-ubyte.gz to data_sets\\MNIST\\raw\n",
      "\n",
      "Downloading http://yann.lecun.com/exdb/mnist/train-labels-idx1-ubyte.gz\n",
      "Failed to download (trying next):\n",
      "HTTP Error 503: Service Unavailable\n",
      "\n",
      "Downloading https://ossci-datasets.s3.amazonaws.com/mnist/train-labels-idx1-ubyte.gz\n",
      "Downloading https://ossci-datasets.s3.amazonaws.com/mnist/train-labels-idx1-ubyte.gz to data_sets\\MNIST\\raw\\train-labels-idx1-ubyte.gz\n"
     ]
    },
    {
     "name": "stderr",
     "output_type": "stream",
     "text": [
      "100%|██████████| 28881/28881 [00:00<00:00, 121927.74it/s]\n"
     ]
    },
    {
     "name": "stdout",
     "output_type": "stream",
     "text": [
      "Extracting data_sets\\MNIST\\raw\\train-labels-idx1-ubyte.gz to data_sets\\MNIST\\raw\n",
      "\n",
      "Downloading http://yann.lecun.com/exdb/mnist/t10k-images-idx3-ubyte.gz\n",
      "Failed to download (trying next):\n",
      "HTTP Error 503: Service Unavailable\n",
      "\n",
      "Downloading https://ossci-datasets.s3.amazonaws.com/mnist/t10k-images-idx3-ubyte.gz\n",
      "Downloading https://ossci-datasets.s3.amazonaws.com/mnist/t10k-images-idx3-ubyte.gz to data_sets\\MNIST\\raw\\t10k-images-idx3-ubyte.gz\n"
     ]
    },
    {
     "name": "stderr",
     "output_type": "stream",
     "text": [
      "100%|██████████| 1648877/1648877 [00:01<00:00, 1076145.22it/s]\n"
     ]
    },
    {
     "name": "stdout",
     "output_type": "stream",
     "text": [
      "Extracting data_sets\\MNIST\\raw\\t10k-images-idx3-ubyte.gz to data_sets\\MNIST\\raw\n",
      "\n",
      "Downloading http://yann.lecun.com/exdb/mnist/t10k-labels-idx1-ubyte.gz\n",
      "Failed to download (trying next):\n",
      "HTTP Error 503: Service Unavailable\n",
      "\n",
      "Downloading https://ossci-datasets.s3.amazonaws.com/mnist/t10k-labels-idx1-ubyte.gz\n",
      "Downloading https://ossci-datasets.s3.amazonaws.com/mnist/t10k-labels-idx1-ubyte.gz to data_sets\\MNIST\\raw\\t10k-labels-idx1-ubyte.gz\n"
     ]
    },
    {
     "name": "stderr",
     "output_type": "stream",
     "text": [
      "100%|██████████| 4542/4542 [00:00<00:00, 1560239.87it/s]"
     ]
    },
    {
     "name": "stdout",
     "output_type": "stream",
     "text": [
      "Extracting data_sets\\MNIST\\raw\\t10k-labels-idx1-ubyte.gz to data_sets\\MNIST\\raw\n",
      "\n"
     ]
    },
    {
     "name": "stderr",
     "output_type": "stream",
     "text": [
      "\n"
     ]
    }
   ],
   "source": [
    "# -------------step3: 下载并加载数据集------------------\n",
    "# 下载数据集\n",
    "train_set = datasets.MNIST(\"data_sets\", train=True, download=True, transform=transform)\n",
    "test_set = datasets.MNIST(\"data_sets\", train=False, download=True, transform=transform)\n",
    "# 加载数据集\n",
    "train_loader = DataLoader(train_set, batch_size=BATCH_SIZE, shuffle=True)\n",
    "test_loader = DataLoader(test_set, batch_size=BATCH_SIZE, shuffle=True)\n"
   ]
  },
  {
   "cell_type": "code",
   "execution_count": 5,
   "metadata": {},
   "outputs": [],
   "source": [
    "# -------------step4: 构建网络模型--------------------\n",
    "class LeNet(nn.Module):\n",
    "    \"\"\"\n",
    "    A neural network with:\n",
    "      2 Conbolutions\n",
    "      3 Full connnection\n",
    "    \"\"\"\n",
    "    def __init__(self):\n",
    "        super().__init__()\n",
    "        self.conv1 = nn.Conv2d(1, 6, (5, 5), (1, ), 2)  # 1:输入通道, 6:输出通道, (5,5):kernel_size, 1:stride, 2:padding\n",
    "        self.conv2 = nn.Conv2d(6, 16, (5, 5))  # 6:输入通道, 16:输出通道, (5,5):kernel_size\n",
    "        self.fc1 = nn.Linear(16*5*5, 120)   # 16*5*5:输入通道, 120:输出通道\n",
    "        self.fc2 = nn.Linear(120, 84)  # 输入通道:120, 输出通道:84\n",
    "        self.fc3 = nn.Linear(84, 10)  # 输入通道:84, 输出通道:10\n",
    "\n",
    "    def forward(self, x):\n",
    "        x = self.conv1(x)  # 输入：batch*1*28*28 输出：batch*6*28*28 （28+2*2-5+1=28）\n",
    "        x = F.relu(x)      # 激活层 输出：batch**6*28*28\n",
    "        x = F.max_pool2d(x, 2, 2)  # 池化层/下采样 输入：batch*6*28*28 输出：batch*6*14*14\n",
    "\n",
    "        x = self.conv2(x)  # 输入：batch*6*14*14 输出：batch*16*10*10  （14+2*0-5+1=10）\n",
    "        x = F.relu(x)  # 激活层 输出：batch*16*10*10\n",
    "        x = F.max_pool2d(x, 2, 2)  # 池化层/下采样 输入：batch*16*10*10 输出：16*5*5\n",
    "\n",
    "        x = x.view(x.size(0), -1)  # 拉平 （-1指自动计算维度） 16*5*5\n",
    "\n",
    "        x = self.fc1(x)  # 输入：batch*16*5*5  输出： batch*120\n",
    "        x = F.relu(x)    # 激活层 输出：batch*120\n",
    "        x = self.fc2(x)  # 输入：batch*120  输出：batch*84\n",
    "        x = F.relu(x)    # 激活层  输出：batch*84\n",
    "        x = self.fc3(x)  # 输入：batch*84  输出：batch*10\n",
    "        output = F.softmax(x, dim=1)  # 计算分类后每个数字的概率值\n",
    "\n",
    "        return output\n"
   ]
  },
  {
   "cell_type": "code",
   "execution_count": 6,
   "metadata": {},
   "outputs": [],
   "source": [
    "# ----------------step:5 定义优化器--------------------------\n",
    "model = LeNet().to(DEVICE)\n",
    "optimizer = optim.Adam(model.parameters())"
   ]
  },
  {
   "cell_type": "code",
   "execution_count": 7,
   "metadata": {},
   "outputs": [],
   "source": [
    "# ----------------step6: 定义训练方法-----------------------\n",
    "def train_model(my_model, device, trains_loader, optimizers, epoches):\n",
    "    # 模型训练\n",
    "    my_model.train()\n",
    "    for batch_idx, (data, target) in enumerate(trains_loader):\n",
    "        # 将data和target部署到DEVICE上去\n",
    "        data, target = data.to(device), target.to(device)\n",
    "        # 将梯度初始化为0\n",
    "        optimizers.zero_grad()\n",
    "        # 训练所得的结果\n",
    "        output = my_model(data)\n",
    "        # 计算交叉熵损失\n",
    "        loss = F.cross_entropy(output, target)\n",
    "        # 反向传播\n",
    "        loss.backward()\n",
    "        # 更新参数\n",
    "        optimizers.step()\n",
    "        # 每100batch_size打印一次log\n",
    "        if batch_idx % 1000 == 0:\n",
    "            print(\"Training Epoch:{} \\t Loss:{:.5f}\".format(epoches, loss.item()))\n"
   ]
  },
  {
   "cell_type": "code",
   "execution_count": 8,
   "metadata": {},
   "outputs": [],
   "source": [
    "# ----------------step7: 定义测试方法------------------------\n",
    "def test_model(my_model, device, test_loder):\n",
    "    my_model.eval()  # 模型验证\n",
    "    correct = 0.0    # 正确率\n",
    "    test_loss = 0.0   # 测试损失\n",
    "    with torch.no_grad():  # 测试时不计算梯度，也不进行反向传播\n",
    "        for data, target in test_loder:\n",
    "            # 将data和target部署到device上\n",
    "            data, target = data.to(device), target.to(device)\n",
    "            # 测试所得的结果\n",
    "            output = my_model(data)\n",
    "            # 计算交叉熵损失\n",
    "            test_loss += F.cross_entropy(output, target).item()\n",
    "            # 找到概率最大的下标\n",
    "            predict = output.argmax(dim=1)\n",
    "            # predict = torch.max(output, dim=1)\n",
    "            correct += predict.eq(target.view_as(predict)).sum().item()  # 累计正确的值\n",
    "        # 计算平均损失\n",
    "        avg_loss = test_loss / len(test_loder.dataset)\n",
    "        # 计算准确率\n",
    "        correct_ratio = 100 * correct / len(test_loder.dataset)\n",
    "        print(\"Average_loss in test:{:.5f}\\t Accuracy:{:.5f}\\n\".format(\n",
    "            avg_loss, correct_ratio\n",
    "        ))\n"
   ]
  },
  {
   "cell_type": "code",
   "execution_count": 9,
   "metadata": {},
   "outputs": [
    {
     "name": "stdout",
     "output_type": "stream",
     "text": [
      "Training Epoch:1 \t Loss:2.30127\n",
      "Training Epoch:1 \t Loss:1.58466\n",
      "Training Epoch:1 \t Loss:1.61494\n",
      "Training Epoch:1 \t Loss:1.58393\n",
      "Average_loss in test:0.09392\t Accuracy:95.81000\n",
      "\n",
      "Training Epoch:2 \t Loss:1.46115\n",
      "Training Epoch:2 \t Loss:1.46115\n",
      "Training Epoch:2 \t Loss:1.46115\n",
      "Training Epoch:2 \t Loss:1.46129\n",
      "Average_loss in test:0.09260\t Accuracy:97.98000\n",
      "\n",
      "Training Epoch:3 \t Loss:1.46115\n",
      "Training Epoch:3 \t Loss:1.46115\n",
      "Training Epoch:3 \t Loss:1.52365\n",
      "Training Epoch:3 \t Loss:1.56549\n",
      "Average_loss in test:0.09274\t Accuracy:97.74000\n",
      "\n",
      "Training Epoch:4 \t Loss:1.46115\n",
      "Training Epoch:4 \t Loss:1.52365\n",
      "Training Epoch:4 \t Loss:1.47090\n",
      "Training Epoch:4 \t Loss:1.46115\n",
      "Average_loss in test:0.09255\t Accuracy:98.05000\n",
      "\n",
      "Training Epoch:5 \t Loss:1.46115\n",
      "Training Epoch:5 \t Loss:1.46115\n",
      "Training Epoch:5 \t Loss:1.46115\n",
      "Training Epoch:5 \t Loss:1.52394\n",
      "Average_loss in test:0.09341\t Accuracy:96.63000\n",
      "\n",
      "Training Epoch:6 \t Loss:1.46115\n",
      "Training Epoch:6 \t Loss:1.46115\n",
      "Training Epoch:6 \t Loss:1.58615\n",
      "Training Epoch:6 \t Loss:1.46115\n",
      "Average_loss in test:0.09298\t Accuracy:97.34000\n",
      "\n",
      "Training Epoch:7 \t Loss:1.46115\n",
      "Training Epoch:7 \t Loss:1.46115\n",
      "Training Epoch:7 \t Loss:1.52365\n",
      "Training Epoch:7 \t Loss:1.64357\n",
      "Average_loss in test:0.09277\t Accuracy:97.67000\n",
      "\n",
      "Training Epoch:8 \t Loss:1.46115\n",
      "Training Epoch:8 \t Loss:1.59177\n",
      "Training Epoch:8 \t Loss:1.46115\n",
      "Training Epoch:8 \t Loss:1.58394\n",
      "Average_loss in test:0.09254\t Accuracy:98.03000\n",
      "\n",
      "Training Epoch:9 \t Loss:1.46115\n",
      "Training Epoch:9 \t Loss:1.46115\n",
      "Training Epoch:9 \t Loss:1.46115\n",
      "Training Epoch:9 \t Loss:1.46115\n",
      "Average_loss in test:0.09316\t Accuracy:97.06000\n",
      "\n",
      "Training Epoch:10 \t Loss:1.46115\n",
      "Training Epoch:10 \t Loss:1.46115\n",
      "Training Epoch:10 \t Loss:1.46115\n",
      "Training Epoch:10 \t Loss:1.46115\n",
      "Average_loss in test:0.09272\t Accuracy:97.77000\n",
      "\n"
     ]
    }
   ],
   "source": [
    "# --------------step8: 训练模型----------------------------\n",
    "for epoch in range(1, EPOCHS+1):\n",
    "    train_model(model, DEVICE, train_loader, optimizer, epoch)\n",
    "    test_model(model, DEVICE, test_loader)\n"
   ]
  },
  {
   "cell_type": "code",
   "execution_count": null,
   "metadata": {},
   "outputs": [],
   "source": []
  }
 ],
 "metadata": {
  "kernelspec": {
   "display_name": "pytorch",
   "language": "python",
   "name": "python3"
  },
  "language_info": {
   "codemirror_mode": {
    "name": "ipython",
    "version": 3
   },
   "file_extension": ".py",
   "mimetype": "text/x-python",
   "name": "python",
   "nbconvert_exporter": "python",
   "pygments_lexer": "ipython3",
   "version": "3.9.0"
  }
 },
 "nbformat": 4,
 "nbformat_minor": 2
}
